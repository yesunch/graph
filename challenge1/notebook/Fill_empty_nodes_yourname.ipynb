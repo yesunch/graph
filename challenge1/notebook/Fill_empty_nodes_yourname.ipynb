{
 "cells": [
  {
   "cell_type": "code",
   "execution_count": 1,
   "metadata": {},
   "outputs": [],
   "source": [
    "import networkx as nx\n",
    "# https://networkx.github.io/documentation/stable/reference/index.html\n",
    "import matplotlib.pyplot as plt\n",
    "from matplotlib import pylab\n",
    "import numpy as np\n",
    "import pandas as pd\n",
    "from collections import Counter"
   ]
  },
  {
   "cell_type": "markdown",
   "metadata": {},
   "source": [
    "# Which nodes' profile do we have to fill?"
   ]
  },
  {
   "cell_type": "code",
   "execution_count": 2,
   "metadata": {},
   "outputs": [],
   "source": [
    "# Sub-problem: fill the profiles of 'empty' nodes\n",
    "df_empty = pd.read_csv('empty.csv', sep='\\t', header='infer')\n"
   ]
  },
  {
   "cell_type": "code",
   "execution_count": 3,
   "metadata": {},
   "outputs": [
    {
     "data": {
      "text/plain": [
       "(475, 1)"
      ]
     },
     "execution_count": 3,
     "metadata": {},
     "output_type": "execute_result"
    }
   ],
   "source": [
    "df_empty.shape"
   ]
  },
  {
   "cell_type": "code",
   "execution_count": 4,
   "metadata": {},
   "outputs": [
    {
     "data": {
      "text/plain": [
       "475"
      ]
     },
     "execution_count": 4,
     "metadata": {},
     "output_type": "execute_result"
    }
   ],
   "source": [
    "# Get a list from a Series\n",
    "empty = df_empty['name'].drop_duplicates().tolist()\n",
    "len(empty)"
   ]
  },
  {
   "cell_type": "markdown",
   "metadata": {},
   "source": [
    "# Profil data understanding"
   ]
  },
  {
   "cell_type": "code",
   "execution_count": 5,
   "metadata": {},
   "outputs": [
    {
     "data": {
      "text/html": [
       "<div>\n",
       "<style scoped>\n",
       "    .dataframe tbody tr th:only-of-type {\n",
       "        vertical-align: middle;\n",
       "    }\n",
       "\n",
       "    .dataframe tbody tr th {\n",
       "        vertical-align: top;\n",
       "    }\n",
       "\n",
       "    .dataframe thead th {\n",
       "        text-align: right;\n",
       "    }\n",
       "</style>\n",
       "<table border=\"1\" class=\"dataframe\">\n",
       "  <thead>\n",
       "    <tr style=\"text-align: right;\">\n",
       "      <th></th>\n",
       "      <th>name</th>\n",
       "      <th>employer</th>\n",
       "    </tr>\n",
       "  </thead>\n",
       "  <tbody>\n",
       "    <tr>\n",
       "      <th>0</th>\n",
       "      <td>U1313</td>\n",
       "      <td>discovery education</td>\n",
       "    </tr>\n",
       "    <tr>\n",
       "      <th>1</th>\n",
       "      <td>U1313</td>\n",
       "      <td>ctb mcgraw-hill</td>\n",
       "    </tr>\n",
       "    <tr>\n",
       "      <th>2</th>\n",
       "      <td>U1313</td>\n",
       "      <td>university of charleston university of south c...</td>\n",
       "    </tr>\n",
       "    <tr>\n",
       "      <th>3</th>\n",
       "      <td>U1313</td>\n",
       "      <td>south carolina department of education</td>\n",
       "    </tr>\n",
       "    <tr>\n",
       "      <th>4</th>\n",
       "      <td>U1313</td>\n",
       "      <td>chesapeake va and sumter sc</td>\n",
       "    </tr>\n",
       "  </tbody>\n",
       "</table>\n",
       "</div>"
      ],
      "text/plain": [
       "    name                                           employer\n",
       "0  U1313                                discovery education\n",
       "1  U1313                                    ctb mcgraw-hill\n",
       "2  U1313  university of charleston university of south c...\n",
       "3  U1313             south carolina department of education\n",
       "4  U1313                        chesapeake va and sumter sc"
      ]
     },
     "execution_count": 5,
     "metadata": {},
     "output_type": "execute_result"
    }
   ],
   "source": [
    "# We use pandas dataframes to load attributes\n",
    "# Nodes are characterized by a list of colleges, a list of employers, a list of location\n",
    "# The order means nothing. Nothing allow us to determine the current employer...\n",
    "df_e = pd.read_csv('employer_with_60percent_of_nodes_remoded.csv', sep='\\t', header='infer')\n",
    "df_e.head()"
   ]
  },
  {
   "cell_type": "code",
   "execution_count": 6,
   "metadata": {},
   "outputs": [
    {
     "data": {
      "text/plain": [
       "923"
      ]
     },
     "execution_count": 6,
     "metadata": {},
     "output_type": "execute_result"
    }
   ],
   "source": [
    "len(df_e[['name']])"
   ]
  },
  {
   "cell_type": "code",
   "execution_count": 7,
   "metadata": {},
   "outputs": [
    {
     "data": {
      "text/plain": [
       "297"
      ]
     },
     "execution_count": 7,
     "metadata": {},
     "output_type": "execute_result"
    }
   ],
   "source": [
    "# How many users have 1 and more declared employers?\n",
    "len(df_e[['name']].drop_duplicates())"
   ]
  },
  {
   "cell_type": "code",
   "execution_count": 8,
   "metadata": {},
   "outputs": [
    {
     "name": "stdout",
     "output_type": "stream",
     "text": [
      "514 nodes have no employer attributes among the 811 users in the graph\n"
     ]
    }
   ],
   "source": [
    "# load the graph\n",
    "# The graph is an extraction from LinkedIn Social Network\n",
    "G = nx.read_gexf(\"mediumLinkedin.gexf\")\n",
    "print(\"%d nodes have no employer attributes among the %d users in the graph\" % (G.number_of_nodes()-len(df_e[['name']].drop_duplicates()), G.number_of_nodes()))"
   ]
  },
  {
   "cell_type": "code",
   "execution_count": 9,
   "metadata": {},
   "outputs": [
    {
     "data": {
      "text/html": [
       "<div>\n",
       "<style scoped>\n",
       "    .dataframe tbody tr th:only-of-type {\n",
       "        vertical-align: middle;\n",
       "    }\n",
       "\n",
       "    .dataframe tbody tr th {\n",
       "        vertical-align: top;\n",
       "    }\n",
       "\n",
       "    .dataframe thead th {\n",
       "        text-align: right;\n",
       "    }\n",
       "</style>\n",
       "<table border=\"1\" class=\"dataframe\">\n",
       "  <thead>\n",
       "    <tr style=\"text-align: right;\">\n",
       "      <th></th>\n",
       "      <th>employer</th>\n",
       "    </tr>\n",
       "  </thead>\n",
       "  <tbody>\n",
       "    <tr>\n",
       "      <th>count</th>\n",
       "      <td>297.000000</td>\n",
       "    </tr>\n",
       "    <tr>\n",
       "      <th>mean</th>\n",
       "      <td>3.107744</td>\n",
       "    </tr>\n",
       "    <tr>\n",
       "      <th>std</th>\n",
       "      <td>1.976682</td>\n",
       "    </tr>\n",
       "    <tr>\n",
       "      <th>min</th>\n",
       "      <td>1.000000</td>\n",
       "    </tr>\n",
       "    <tr>\n",
       "      <th>25%</th>\n",
       "      <td>1.000000</td>\n",
       "    </tr>\n",
       "    <tr>\n",
       "      <th>50%</th>\n",
       "      <td>3.000000</td>\n",
       "    </tr>\n",
       "    <tr>\n",
       "      <th>75%</th>\n",
       "      <td>4.000000</td>\n",
       "    </tr>\n",
       "    <tr>\n",
       "      <th>max</th>\n",
       "      <td>13.000000</td>\n",
       "    </tr>\n",
       "  </tbody>\n",
       "</table>\n",
       "</div>"
      ],
      "text/plain": [
       "         employer\n",
       "count  297.000000\n",
       "mean     3.107744\n",
       "std      1.976682\n",
       "min      1.000000\n",
       "25%      1.000000\n",
       "50%      3.000000\n",
       "75%      4.000000\n",
       "max     13.000000"
      ]
     },
     "execution_count": 9,
     "metadata": {},
     "output_type": "execute_result"
    }
   ],
   "source": [
    "# How many employers / user?\n",
    "df_e.groupby('name').count().describe()"
   ]
  },
  {
   "cell_type": "code",
   "execution_count": 10,
   "metadata": {},
   "outputs": [
    {
     "data": {
      "text/plain": [
       "university of illinois at urbana-champaign    76\n",
       "microsoft                                     15\n",
       "google                                        15\n",
       "measured progress                              5\n",
       "university of texas at austin                  5\n",
       "                                              ..\n",
       "seo by jt                                      1\n",
       "dow corning                                    1\n",
       "dhaka international university                 1\n",
       "sophos                                         1\n",
       "t-mobile                                       1\n",
       "Name: employer, Length: 723, dtype: int64"
      ]
     },
     "execution_count": 10,
     "metadata": {},
     "output_type": "execute_result"
    }
   ],
   "source": [
    "df_e['employer'].value_counts()"
   ]
  },
  {
   "cell_type": "code",
   "execution_count": 11,
   "metadata": {},
   "outputs": [
    {
     "data": {
      "text/html": [
       "<div>\n",
       "<style scoped>\n",
       "    .dataframe tbody tr th:only-of-type {\n",
       "        vertical-align: middle;\n",
       "    }\n",
       "\n",
       "    .dataframe tbody tr th {\n",
       "        vertical-align: top;\n",
       "    }\n",
       "\n",
       "    .dataframe thead th {\n",
       "        text-align: right;\n",
       "    }\n",
       "</style>\n",
       "<table border=\"1\" class=\"dataframe\">\n",
       "  <thead>\n",
       "    <tr style=\"text-align: right;\">\n",
       "      <th></th>\n",
       "      <th>name</th>\n",
       "      <th>employer</th>\n",
       "    </tr>\n",
       "  </thead>\n",
       "  <tbody>\n",
       "    <tr>\n",
       "      <th>30</th>\n",
       "      <td>U3895</td>\n",
       "      <td>google</td>\n",
       "    </tr>\n",
       "    <tr>\n",
       "      <th>126</th>\n",
       "      <td>U15289</td>\n",
       "      <td>google</td>\n",
       "    </tr>\n",
       "    <tr>\n",
       "      <th>136</th>\n",
       "      <td>U24080</td>\n",
       "      <td>google</td>\n",
       "    </tr>\n",
       "    <tr>\n",
       "      <th>145</th>\n",
       "      <td>U24046</td>\n",
       "      <td>google</td>\n",
       "    </tr>\n",
       "    <tr>\n",
       "      <th>161</th>\n",
       "      <td>U7151</td>\n",
       "      <td>google</td>\n",
       "    </tr>\n",
       "  </tbody>\n",
       "</table>\n",
       "</div>"
      ],
      "text/plain": [
       "       name employer\n",
       "30    U3895   google\n",
       "126  U15289   google\n",
       "136  U24080   google\n",
       "145  U24046   google\n",
       "161   U7151   google"
      ]
     },
     "execution_count": 11,
     "metadata": {},
     "output_type": "execute_result"
    }
   ],
   "source": [
    "# Boolean row selection by values in a column\n",
    "df_e.loc[df_e['employer'].isin(['google','google inc']),:].head()\n"
   ]
  },
  {
   "cell_type": "code",
   "execution_count": null,
   "metadata": {},
   "outputs": [],
   "source": []
  },
  {
   "cell_type": "code",
   "execution_count": null,
   "metadata": {},
   "outputs": [],
   "source": []
  },
  {
   "cell_type": "markdown",
   "metadata": {},
   "source": [
    "# Exploration of the graph : relational data understanding, focus on homophily"
   ]
  },
  {
   "cell_type": "code",
   "execution_count": 12,
   "metadata": {},
   "outputs": [
    {
     "name": "stdout",
     "output_type": "stream",
     "text": [
      "Name: \n",
      "Type: Graph\n",
      "Number of nodes: 811\n",
      "Number of edges: 1597\n",
      "Average degree:   3.9383\n"
     ]
    }
   ],
   "source": [
    "# networkx short summary of information for the graph g\n",
    "print(nx.info(G))"
   ]
  },
  {
   "cell_type": "code",
   "execution_count": null,
   "metadata": {},
   "outputs": [],
   "source": []
  },
  {
   "cell_type": "markdown",
   "metadata": {},
   "source": [
    "### Homophily understanding\n",
    "Test here the homophily in the graph for each attribute"
   ]
  },
  {
   "cell_type": "code",
   "execution_count": null,
   "metadata": {},
   "outputs": [],
   "source": []
  },
  {
   "cell_type": "code",
   "execution_count": null,
   "metadata": {},
   "outputs": [],
   "source": []
  },
  {
   "cell_type": "markdown",
   "metadata": {},
   "source": [
    "# Strategy 0 to fill the empty profiles = your baseline: naive method\n",
    "\n",
    "The assumption is that two connected nodes are likely to share the same attribute values. Here we choose the most frequently used attribute value among the neighbors."
   ]
  },
  {
   "cell_type": "code",
   "execution_count": 13,
   "metadata": {},
   "outputs": [],
   "source": [
    "naive_predicted_values={}"
   ]
  },
  {
   "cell_type": "code",
   "execution_count": 14,
   "metadata": {},
   "outputs": [],
   "source": [
    "def naive_method(graph, empty, df):\n",
    "    \"\"\"   Predict the missing attribute with a simple but effective\n",
    "    relational classifier. \n",
    "    \n",
    "    The assumption is that two connected nodes are \n",
    "    likely to share the same attribute value. Here we chose the most frequently\n",
    "    used attribute by the neighbors\n",
    "    \n",
    "    Parameters\n",
    "    ----------\n",
    "    graph : graph\n",
    "       A networkx graph\n",
    "    empty : list\n",
    "       The nodes with empty attributes \n",
    "    df : pandas dataframe \n",
    "       Either location, employer or college dataframe. \n",
    "\n",
    "    Returns\n",
    "    -------\n",
    "    predicted_values : dict \n",
    "       A dict of attributes, either location, employer or college attributes. \n",
    "       key is a node (from empty), value is a list of attribute values. Here \n",
    "       only 1 value in the list.\n",
    "     \"\"\"\n",
    "    predicted_values={}\n",
    "    for n in empty:\n",
    "        nbrs_attr_values=[] \n",
    "        for nbr in graph.neighbors(n):\n",
    "            # attribute values for the node nbr\n",
    "            attr = df_e.loc[df_e.name == nbr ,'employer'].values\n",
    "            if attr.size > 0: #array not empty\n",
    "                for val in attr:\n",
    "                    nbrs_attr_values.append(val)\n",
    "        predicted_values[n]=[]\n",
    "        if nbrs_attr_values: # non empty list\n",
    "            # count the number of occurrence each value and returns a dict\n",
    "            cpt=Counter(nbrs_attr_values)\n",
    "            # take the most represented attribute value among neighbors\n",
    "            a,nb_occurrence=max(cpt.items(), key=lambda t: t[1])\n",
    "            predicted_values[n].append(a)\n",
    "    return predicted_values\n"
   ]
  },
  {
   "cell_type": "code",
   "execution_count": 15,
   "metadata": {},
   "outputs": [],
   "source": [
    "naive_predicted_values = naive_method(G, empty, df_e)"
   ]
  },
  {
   "cell_type": "code",
   "execution_count": null,
   "metadata": {},
   "outputs": [],
   "source": []
  },
  {
   "cell_type": "code",
   "execution_count": null,
   "metadata": {},
   "outputs": [],
   "source": []
  },
  {
   "cell_type": "markdown",
   "metadata": {},
   "source": [
    "# Strategy 1 to fill the empty profiles"
   ]
  },
  {
   "cell_type": "code",
   "execution_count": null,
   "metadata": {},
   "outputs": [],
   "source": []
  },
  {
   "cell_type": "code",
   "execution_count": null,
   "metadata": {},
   "outputs": [],
   "source": [
    "\n",
    "\n"
   ]
  },
  {
   "cell_type": "code",
   "execution_count": null,
   "metadata": {},
   "outputs": [],
   "source": []
  },
  {
   "cell_type": "markdown",
   "metadata": {},
   "source": [
    "# Strategy 2 to fill the empty profiles"
   ]
  },
  {
   "cell_type": "code",
   "execution_count": null,
   "metadata": {},
   "outputs": [],
   "source": []
  },
  {
   "cell_type": "code",
   "execution_count": null,
   "metadata": {},
   "outputs": [],
   "source": []
  },
  {
   "cell_type": "code",
   "execution_count": null,
   "metadata": {},
   "outputs": [],
   "source": []
  },
  {
   "cell_type": "code",
   "execution_count": null,
   "metadata": {},
   "outputs": [],
   "source": []
  },
  {
   "cell_type": "markdown",
   "metadata": {},
   "source": [
    "# Evaluation\n"
   ]
  },
  {
   "cell_type": "code",
   "execution_count": 16,
   "metadata": {},
   "outputs": [
    {
     "data": {
      "text/html": [
       "<div>\n",
       "<style scoped>\n",
       "    .dataframe tbody tr th:only-of-type {\n",
       "        vertical-align: middle;\n",
       "    }\n",
       "\n",
       "    .dataframe tbody tr th {\n",
       "        vertical-align: top;\n",
       "    }\n",
       "\n",
       "    .dataframe thead th {\n",
       "        text-align: right;\n",
       "    }\n",
       "</style>\n",
       "<table border=\"1\" class=\"dataframe\">\n",
       "  <thead>\n",
       "    <tr style=\"text-align: right;\">\n",
       "      <th></th>\n",
       "      <th>name</th>\n",
       "      <th>employer</th>\n",
       "    </tr>\n",
       "  </thead>\n",
       "  <tbody>\n",
       "    <tr>\n",
       "      <th>0</th>\n",
       "      <td>U21998</td>\n",
       "      <td>illinois college advising corps</td>\n",
       "    </tr>\n",
       "    <tr>\n",
       "      <th>1</th>\n",
       "      <td>U21998</td>\n",
       "      <td>victoria amplifiers</td>\n",
       "    </tr>\n",
       "    <tr>\n",
       "      <th>2</th>\n",
       "      <td>U21998</td>\n",
       "      <td>university of illinois at chicago</td>\n",
       "    </tr>\n",
       "    <tr>\n",
       "      <th>3</th>\n",
       "      <td>U27476</td>\n",
       "      <td>ibm</td>\n",
       "    </tr>\n",
       "    <tr>\n",
       "      <th>4</th>\n",
       "      <td>U27476</td>\n",
       "      <td>nyse euronext</td>\n",
       "    </tr>\n",
       "  </tbody>\n",
       "</table>\n",
       "</div>"
      ],
      "text/plain": [
       "     name                           employer\n",
       "0  U21998    illinois college advising corps\n",
       "1  U21998                victoria amplifiers\n",
       "2  U21998  university of illinois at chicago\n",
       "3  U27476                                ibm\n",
       "4  U27476                      nyse euronext"
      ]
     },
     "execution_count": 16,
     "metadata": {},
     "output_type": "execute_result"
    }
   ],
   "source": [
    "df_e_truth = pd.read_csv('./groundtruth/employer.csv', sep='\\t', header='infer')\n",
    "df_e_truth.head()"
   ]
  },
  {
   "cell_type": "code",
   "execution_count": 17,
   "metadata": {},
   "outputs": [
    {
     "data": {
      "text/plain": [
       "array(['illinois college advising corps', 'victoria amplifiers',\n",
       "       'university of illinois at chicago'], dtype=object)"
      ]
     },
     "execution_count": 17,
     "metadata": {},
     "output_type": "execute_result"
    }
   ],
   "source": [
    "df_e_truth.loc[df_e_truth.name == 'U21998',df_e_truth.columns[1]].values"
   ]
  },
  {
   "cell_type": "code",
   "execution_count": 18,
   "metadata": {},
   "outputs": [],
   "source": [
    "def evaluation_accuracy(groundtruth, pred):\n",
    "    \"\"\"    Compute the accuracy of your model.\n",
    "\n",
    "     The accuracy is the proportion of true results.\n",
    "\n",
    "    Parameters\n",
    "    ----------\n",
    "    groundtruth : pandas dataframe \n",
    "       Either location, employer or college dataframe. \n",
    "    pred : dict \n",
    "       A dict of attributes, either location, employer or college attributes. \n",
    "       key is a node, value is a list of attribute values. \n",
    "\n",
    "    Returns\n",
    "    -------\n",
    "    out : float\n",
    "       Accuracy.\n",
    "    \"\"\"\n",
    "    true_positive_prediction=0\n",
    "    predicted=0\n",
    "    for p_key, p_value in pred.items():\n",
    "        attr = groundtruth.loc[groundtruth.name == p_key ,groundtruth.columns[1]].values\n",
    "        # if prediction is empty, e.g. [], and so is the groundtruth\n",
    "        # May happen, we count it as a true prediction\n",
    "        if not p_value and attr.size == 0:\n",
    "            true_positive_prediction+=1\n",
    "            predicted+=1\n",
    "        # counts the number of good prediction for node p_key\n",
    "        # here len(p_value)=1 but we could have tried to predict more values\n",
    "        # if p_value == [], we add 0\n",
    "        true_positive_prediction += len([c for c in p_value if c in attr])\n",
    "        predicted += len([c for c in p_value])\n",
    "    return true_positive_prediction*100/predicted\n",
    " "
   ]
  },
  {
   "cell_type": "code",
   "execution_count": 19,
   "metadata": {},
   "outputs": [
    {
     "name": "stdout",
     "output_type": "stream",
     "text": [
      "27.397260% of the predictions are true\n",
      "Very poor result!!! Try to do better!!!!\n"
     ]
    }
   ],
   "source": [
    "result=evaluation_accuracy(df_e_truth, naive_predicted_values)\n",
    "print(\"%f%% of the predictions are true\" % result)\n",
    "print(\"Very poor result!!! Try to do better!!!!\")"
   ]
  },
  {
   "cell_type": "code",
   "execution_count": null,
   "metadata": {},
   "outputs": [],
   "source": []
  }
 ],
 "metadata": {
  "kernelspec": {
   "display_name": "Python 3",
   "language": "python",
   "name": "python3"
  },
  "language_info": {
   "codemirror_mode": {
    "name": "ipython",
    "version": 3
   },
   "file_extension": ".py",
   "mimetype": "text/x-python",
   "name": "python",
   "nbconvert_exporter": "python",
   "pygments_lexer": "ipython3",
   "version": "3.6.9"
  }
 },
 "nbformat": 4,
 "nbformat_minor": 2
}
